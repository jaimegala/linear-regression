{
 "cells": [
  {
   "cell_type": "markdown",
   "id": "d1867664-54da-494c-ab0e-a411d69d1f6e",
   "metadata": {},
   "source": [
    "import all necessary libraries to proceed"
   ]
  },
  {
   "cell_type": "code",
   "execution_count": 1,
   "id": "f6328ea0-22b5-4788-a020-2838a51f40e8",
   "metadata": {},
   "outputs": [],
   "source": [
    "import pandas as pd\n",
    "import numpy as np\n",
    "import matplotlib.pyplot as plt\n",
    "import seaborn as sns"
   ]
  },
  {
   "cell_type": "markdown",
   "id": "e54dccfa-4e63-4caa-b008-c32a70e30284",
   "metadata": {},
   "source": [
    "to load the dataset for analysis"
   ]
  },
  {
   "cell_type": "code",
   "execution_count": 2,
   "id": "898ed0f4-788a-4028-8a97-0b306ab9611a",
   "metadata": {},
   "outputs": [],
   "source": [
    "df = pd.read_csv(\"insurance.csv\")"
   ]
  },
  {
   "cell_type": "markdown",
   "id": "1d247d5e-6242-4b01-82db-b8d6099ba6dc",
   "metadata": {},
   "source": [
    "To check the first five in dataset to using .head() function"
   ]
  },
  {
   "cell_type": "code",
   "execution_count": 3,
   "id": "81a7668b-bc0c-4db5-97c4-2089bbca4b01",
   "metadata": {},
   "outputs": [
    {
     "data": {
      "text/html": [
       "<div>\n",
       "<style scoped>\n",
       "    .dataframe tbody tr th:only-of-type {\n",
       "        vertical-align: middle;\n",
       "    }\n",
       "\n",
       "    .dataframe tbody tr th {\n",
       "        vertical-align: top;\n",
       "    }\n",
       "\n",
       "    .dataframe thead th {\n",
       "        text-align: right;\n",
       "    }\n",
       "</style>\n",
       "<table border=\"1\" class=\"dataframe\">\n",
       "  <thead>\n",
       "    <tr style=\"text-align: right;\">\n",
       "      <th></th>\n",
       "      <th>age</th>\n",
       "      <th>sex</th>\n",
       "      <th>bmi</th>\n",
       "      <th>children</th>\n",
       "      <th>smoker</th>\n",
       "      <th>region</th>\n",
       "      <th>charges</th>\n",
       "    </tr>\n",
       "  </thead>\n",
       "  <tbody>\n",
       "    <tr>\n",
       "      <th>0</th>\n",
       "      <td>19</td>\n",
       "      <td>female</td>\n",
       "      <td>27.900</td>\n",
       "      <td>0</td>\n",
       "      <td>yes</td>\n",
       "      <td>southwest</td>\n",
       "      <td>16884.92400</td>\n",
       "    </tr>\n",
       "    <tr>\n",
       "      <th>1</th>\n",
       "      <td>18</td>\n",
       "      <td>male</td>\n",
       "      <td>33.770</td>\n",
       "      <td>1</td>\n",
       "      <td>no</td>\n",
       "      <td>southeast</td>\n",
       "      <td>1725.55230</td>\n",
       "    </tr>\n",
       "    <tr>\n",
       "      <th>2</th>\n",
       "      <td>28</td>\n",
       "      <td>male</td>\n",
       "      <td>33.000</td>\n",
       "      <td>3</td>\n",
       "      <td>no</td>\n",
       "      <td>southeast</td>\n",
       "      <td>4449.46200</td>\n",
       "    </tr>\n",
       "    <tr>\n",
       "      <th>3</th>\n",
       "      <td>33</td>\n",
       "      <td>male</td>\n",
       "      <td>22.705</td>\n",
       "      <td>0</td>\n",
       "      <td>no</td>\n",
       "      <td>northwest</td>\n",
       "      <td>21984.47061</td>\n",
       "    </tr>\n",
       "    <tr>\n",
       "      <th>4</th>\n",
       "      <td>32</td>\n",
       "      <td>male</td>\n",
       "      <td>28.880</td>\n",
       "      <td>0</td>\n",
       "      <td>no</td>\n",
       "      <td>northwest</td>\n",
       "      <td>3866.85520</td>\n",
       "    </tr>\n",
       "  </tbody>\n",
       "</table>\n",
       "</div>"
      ],
      "text/plain": [
       "   age     sex     bmi  children smoker     region      charges\n",
       "0   19  female  27.900         0    yes  southwest  16884.92400\n",
       "1   18    male  33.770         1     no  southeast   1725.55230\n",
       "2   28    male  33.000         3     no  southeast   4449.46200\n",
       "3   33    male  22.705         0     no  northwest  21984.47061\n",
       "4   32    male  28.880         0     no  northwest   3866.85520"
      ]
     },
     "execution_count": 3,
     "metadata": {},
     "output_type": "execute_result"
    }
   ],
   "source": [
    "df.head()"
   ]
  },
  {
   "cell_type": "markdown",
   "id": "1369d2ca-e83e-4780-b62b-b3cbd198c7ed",
   "metadata": {},
   "source": [
    "To check the last five in dataset to using .tail() function"
   ]
  },
  {
   "cell_type": "code",
   "execution_count": 5,
   "id": "bc1f0b27-8cfe-4bd3-b202-f5cbe630ec9e",
   "metadata": {},
   "outputs": [
    {
     "data": {
      "text/html": [
       "<div>\n",
       "<style scoped>\n",
       "    .dataframe tbody tr th:only-of-type {\n",
       "        vertical-align: middle;\n",
       "    }\n",
       "\n",
       "    .dataframe tbody tr th {\n",
       "        vertical-align: top;\n",
       "    }\n",
       "\n",
       "    .dataframe thead th {\n",
       "        text-align: right;\n",
       "    }\n",
       "</style>\n",
       "<table border=\"1\" class=\"dataframe\">\n",
       "  <thead>\n",
       "    <tr style=\"text-align: right;\">\n",
       "      <th></th>\n",
       "      <th>age</th>\n",
       "      <th>sex</th>\n",
       "      <th>bmi</th>\n",
       "      <th>children</th>\n",
       "      <th>smoker</th>\n",
       "      <th>region</th>\n",
       "      <th>charges</th>\n",
       "    </tr>\n",
       "  </thead>\n",
       "  <tbody>\n",
       "    <tr>\n",
       "      <th>1333</th>\n",
       "      <td>50</td>\n",
       "      <td>male</td>\n",
       "      <td>30.97</td>\n",
       "      <td>3</td>\n",
       "      <td>no</td>\n",
       "      <td>northwest</td>\n",
       "      <td>10600.5483</td>\n",
       "    </tr>\n",
       "    <tr>\n",
       "      <th>1334</th>\n",
       "      <td>18</td>\n",
       "      <td>female</td>\n",
       "      <td>31.92</td>\n",
       "      <td>0</td>\n",
       "      <td>no</td>\n",
       "      <td>northeast</td>\n",
       "      <td>2205.9808</td>\n",
       "    </tr>\n",
       "    <tr>\n",
       "      <th>1335</th>\n",
       "      <td>18</td>\n",
       "      <td>female</td>\n",
       "      <td>36.85</td>\n",
       "      <td>0</td>\n",
       "      <td>no</td>\n",
       "      <td>southeast</td>\n",
       "      <td>1629.8335</td>\n",
       "    </tr>\n",
       "    <tr>\n",
       "      <th>1336</th>\n",
       "      <td>21</td>\n",
       "      <td>female</td>\n",
       "      <td>25.80</td>\n",
       "      <td>0</td>\n",
       "      <td>no</td>\n",
       "      <td>southwest</td>\n",
       "      <td>2007.9450</td>\n",
       "    </tr>\n",
       "    <tr>\n",
       "      <th>1337</th>\n",
       "      <td>61</td>\n",
       "      <td>female</td>\n",
       "      <td>29.07</td>\n",
       "      <td>0</td>\n",
       "      <td>yes</td>\n",
       "      <td>northwest</td>\n",
       "      <td>29141.3603</td>\n",
       "    </tr>\n",
       "  </tbody>\n",
       "</table>\n",
       "</div>"
      ],
      "text/plain": [
       "      age     sex    bmi  children smoker     region     charges\n",
       "1333   50    male  30.97         3     no  northwest  10600.5483\n",
       "1334   18  female  31.92         0     no  northeast   2205.9808\n",
       "1335   18  female  36.85         0     no  southeast   1629.8335\n",
       "1336   21  female  25.80         0     no  southwest   2007.9450\n",
       "1337   61  female  29.07         0    yes  northwest  29141.3603"
      ]
     },
     "execution_count": 5,
     "metadata": {},
     "output_type": "execute_result"
    }
   ],
   "source": [
    "df.tail()"
   ]
  },
  {
   "cell_type": "markdown",
   "id": "d84c33cb-a13f-455c-bbcf-4880583607ef",
   "metadata": {},
   "source": [
    "To check the dataset information use .info()"
   ]
  },
  {
   "cell_type": "code",
   "execution_count": 6,
   "id": "58bb65ce-5832-4262-8989-4a9127d80db4",
   "metadata": {},
   "outputs": [
    {
     "name": "stdout",
     "output_type": "stream",
     "text": [
      "<class 'pandas.core.frame.DataFrame'>\n",
      "RangeIndex: 1338 entries, 0 to 1337\n",
      "Data columns (total 7 columns):\n",
      " #   Column    Non-Null Count  Dtype  \n",
      "---  ------    --------------  -----  \n",
      " 0   age       1338 non-null   int64  \n",
      " 1   sex       1338 non-null   object \n",
      " 2   bmi       1338 non-null   float64\n",
      " 3   children  1338 non-null   int64  \n",
      " 4   smoker    1338 non-null   object \n",
      " 5   region    1338 non-null   object \n",
      " 6   charges   1338 non-null   float64\n",
      "dtypes: float64(2), int64(2), object(3)\n",
      "memory usage: 73.3+ KB\n"
     ]
    }
   ],
   "source": [
    "df.info()"
   ]
  },
  {
   "cell_type": "markdown",
   "id": "aff3e48b-f8ba-42ef-81fb-c3c5b412955c",
   "metadata": {},
   "source": [
    "To check the shape and size of the dataset"
   ]
  },
  {
   "cell_type": "code",
   "execution_count": 7,
   "id": "23feeb4b-4fa1-4cf6-9179-c08d1c84b074",
   "metadata": {},
   "outputs": [
    {
     "data": {
      "text/plain": [
       "((1338, 7), 9366)"
      ]
     },
     "execution_count": 7,
     "metadata": {},
     "output_type": "execute_result"
    }
   ],
   "source": [
    "df.shape,df.size"
   ]
  },
  {
   "cell_type": "markdown",
   "id": "5ca18cb8-0c8d-474f-87f9-bb5de6220c67",
   "metadata": {},
   "source": [
    "To chek the dataset count,mean,std,min,quantile and max using .describe()"
   ]
  },
  {
   "cell_type": "code",
   "execution_count": 8,
   "id": "db33831c-955e-4cb1-ac02-d770d0234f0e",
   "metadata": {},
   "outputs": [
    {
     "data": {
      "text/html": [
       "<div>\n",
       "<style scoped>\n",
       "    .dataframe tbody tr th:only-of-type {\n",
       "        vertical-align: middle;\n",
       "    }\n",
       "\n",
       "    .dataframe tbody tr th {\n",
       "        vertical-align: top;\n",
       "    }\n",
       "\n",
       "    .dataframe thead th {\n",
       "        text-align: right;\n",
       "    }\n",
       "</style>\n",
       "<table border=\"1\" class=\"dataframe\">\n",
       "  <thead>\n",
       "    <tr style=\"text-align: right;\">\n",
       "      <th></th>\n",
       "      <th>age</th>\n",
       "      <th>bmi</th>\n",
       "      <th>children</th>\n",
       "      <th>charges</th>\n",
       "    </tr>\n",
       "  </thead>\n",
       "  <tbody>\n",
       "    <tr>\n",
       "      <th>count</th>\n",
       "      <td>1338.000000</td>\n",
       "      <td>1338.000000</td>\n",
       "      <td>1338.000000</td>\n",
       "      <td>1338.000000</td>\n",
       "    </tr>\n",
       "    <tr>\n",
       "      <th>mean</th>\n",
       "      <td>39.207025</td>\n",
       "      <td>30.663397</td>\n",
       "      <td>1.094918</td>\n",
       "      <td>13270.422265</td>\n",
       "    </tr>\n",
       "    <tr>\n",
       "      <th>std</th>\n",
       "      <td>14.049960</td>\n",
       "      <td>6.098187</td>\n",
       "      <td>1.205493</td>\n",
       "      <td>12110.011237</td>\n",
       "    </tr>\n",
       "    <tr>\n",
       "      <th>min</th>\n",
       "      <td>18.000000</td>\n",
       "      <td>15.960000</td>\n",
       "      <td>0.000000</td>\n",
       "      <td>1121.873900</td>\n",
       "    </tr>\n",
       "    <tr>\n",
       "      <th>25%</th>\n",
       "      <td>27.000000</td>\n",
       "      <td>26.296250</td>\n",
       "      <td>0.000000</td>\n",
       "      <td>4740.287150</td>\n",
       "    </tr>\n",
       "    <tr>\n",
       "      <th>50%</th>\n",
       "      <td>39.000000</td>\n",
       "      <td>30.400000</td>\n",
       "      <td>1.000000</td>\n",
       "      <td>9382.033000</td>\n",
       "    </tr>\n",
       "    <tr>\n",
       "      <th>75%</th>\n",
       "      <td>51.000000</td>\n",
       "      <td>34.693750</td>\n",
       "      <td>2.000000</td>\n",
       "      <td>16639.912515</td>\n",
       "    </tr>\n",
       "    <tr>\n",
       "      <th>max</th>\n",
       "      <td>64.000000</td>\n",
       "      <td>53.130000</td>\n",
       "      <td>5.000000</td>\n",
       "      <td>63770.428010</td>\n",
       "    </tr>\n",
       "  </tbody>\n",
       "</table>\n",
       "</div>"
      ],
      "text/plain": [
       "               age          bmi     children       charges\n",
       "count  1338.000000  1338.000000  1338.000000   1338.000000\n",
       "mean     39.207025    30.663397     1.094918  13270.422265\n",
       "std      14.049960     6.098187     1.205493  12110.011237\n",
       "min      18.000000    15.960000     0.000000   1121.873900\n",
       "25%      27.000000    26.296250     0.000000   4740.287150\n",
       "50%      39.000000    30.400000     1.000000   9382.033000\n",
       "75%      51.000000    34.693750     2.000000  16639.912515\n",
       "max      64.000000    53.130000     5.000000  63770.428010"
      ]
     },
     "execution_count": 8,
     "metadata": {},
     "output_type": "execute_result"
    }
   ],
   "source": [
    "df.describe()"
   ]
  },
  {
   "cell_type": "markdown",
   "id": "5ebee9dc-82cd-41c2-8d84-28685330a2cb",
   "metadata": {},
   "source": [
    "TO check null values to using isnull and count the null value to use sum,so that we getting the null values count"
   ]
  },
  {
   "cell_type": "code",
   "execution_count": 9,
   "id": "5849b04f-e9aa-4fd6-9f99-9799594e4232",
   "metadata": {},
   "outputs": [
    {
     "data": {
      "text/plain": [
       "age         0\n",
       "sex         0\n",
       "bmi         0\n",
       "children    0\n",
       "smoker      0\n",
       "region      0\n",
       "charges     0\n",
       "dtype: int64"
      ]
     },
     "execution_count": 9,
     "metadata": {},
     "output_type": "execute_result"
    }
   ],
   "source": [
    "df.isnull().sum()"
   ]
  },
  {
   "cell_type": "markdown",
   "id": "b7b31d88-5050-47db-91ff-be189a9444e7",
   "metadata": {},
   "source": [
    "to check the not null values"
   ]
  },
  {
   "cell_type": "code",
   "execution_count": 10,
   "id": "767516e8-78ef-44be-a4f5-ecc16588f905",
   "metadata": {},
   "outputs": [
    {
     "data": {
      "text/plain": [
       "age         1338\n",
       "sex         1338\n",
       "bmi         1338\n",
       "children    1338\n",
       "smoker      1338\n",
       "region      1338\n",
       "charges     1338\n",
       "dtype: int64"
      ]
     },
     "execution_count": 10,
     "metadata": {},
     "output_type": "execute_result"
    }
   ],
   "source": [
    "df.notnull().sum()"
   ]
  },
  {
   "cell_type": "markdown",
   "id": "54a7beff-72ad-4437-ba59-185a174bdbf5",
   "metadata": {},
   "source": [
    "To check the duplicate values to use duplicated() function and get the duplicated count to use .sum()."
   ]
  },
  {
   "cell_type": "code",
   "execution_count": 11,
   "id": "c1184325-6d53-457c-a772-6dca827cb1ab",
   "metadata": {},
   "outputs": [
    {
     "data": {
      "text/plain": [
       "1"
      ]
     },
     "execution_count": 11,
     "metadata": {},
     "output_type": "execute_result"
    }
   ],
   "source": [
    "df.duplicated().sum()"
   ]
  },
  {
   "cell_type": "markdown",
   "id": "ebea5ce8-3cc5-44d8-b302-3a67d916961c",
   "metadata": {},
   "source": [
    "For plotting pie chart we do the piviot table for region and age mean."
   ]
  },
  {
   "cell_type": "code",
   "execution_count": 12,
   "id": "d57300aa-3253-4a08-b620-b6954db7e5a1",
   "metadata": {},
   "outputs": [],
   "source": [
    "pie =pd.pivot_table(df,index = 'region',values = ['age'],aggfunc='mean')"
   ]
  },
  {
   "cell_type": "code",
   "execution_count": 13,
   "id": "d24bc499-b60e-4488-aa84-60fbac152dbd",
   "metadata": {},
   "outputs": [
    {
     "data": {
      "text/html": [
       "<div>\n",
       "<style scoped>\n",
       "    .dataframe tbody tr th:only-of-type {\n",
       "        vertical-align: middle;\n",
       "    }\n",
       "\n",
       "    .dataframe tbody tr th {\n",
       "        vertical-align: top;\n",
       "    }\n",
       "\n",
       "    .dataframe thead th {\n",
       "        text-align: right;\n",
       "    }\n",
       "</style>\n",
       "<table border=\"1\" class=\"dataframe\">\n",
       "  <thead>\n",
       "    <tr style=\"text-align: right;\">\n",
       "      <th></th>\n",
       "      <th>age</th>\n",
       "    </tr>\n",
       "    <tr>\n",
       "      <th>region</th>\n",
       "      <th></th>\n",
       "    </tr>\n",
       "  </thead>\n",
       "  <tbody>\n",
       "    <tr>\n",
       "      <th>northeast</th>\n",
       "      <td>39.268519</td>\n",
       "    </tr>\n",
       "    <tr>\n",
       "      <th>northwest</th>\n",
       "      <td>39.196923</td>\n",
       "    </tr>\n",
       "    <tr>\n",
       "      <th>southeast</th>\n",
       "      <td>38.939560</td>\n",
       "    </tr>\n",
       "    <tr>\n",
       "      <th>southwest</th>\n",
       "      <td>39.455385</td>\n",
       "    </tr>\n",
       "  </tbody>\n",
       "</table>\n",
       "</div>"
      ],
      "text/plain": [
       "                 age\n",
       "region              \n",
       "northeast  39.268519\n",
       "northwest  39.196923\n",
       "southeast  38.939560\n",
       "southwest  39.455385"
      ]
     },
     "execution_count": 13,
     "metadata": {},
     "output_type": "execute_result"
    }
   ],
   "source": [
    "pie"
   ]
  },
  {
   "cell_type": "markdown",
   "id": "f8dbd714-6d89-46b0-8820-43544109874f",
   "metadata": {},
   "source": [
    "Below pie chart telling that each region average age people"
   ]
  },
  {
   "cell_type": "code",
   "execution_count": 14,
   "id": "b467d99e-d1a3-4b75-ab60-785256faa303",
   "metadata": {},
   "outputs": [
    {
     "data": {
      "image/png": "[encoded data removed]",
      "text/plain": [
       "<Figure size 640x480 with 1 Axes>"
      ]
     },
     "metadata": {},
     "output_type": "display_data"
    }
   ],
   "source": [
    "plt.pie(pie.age,labels = pie.index,autopct='%1.1f%%', startangle=140)\n",
    "plt.show()"
   ]
  },
  {
   "cell_type": "markdown",
   "id": "e73eb1eb-c656-4af0-8754-f0bf1ea55edd",
   "metadata": {},
   "source": [
    "The below scatter plot shows the relationship between the bmi and charges. The scatter plot telling that it have outliers"
   ]
  },
  {
   "cell_type": "code",
   "execution_count": 15,
   "id": "a0733ec4-aaa3-4da1-be46-5f296762fc74",
   "metadata": {},
   "outputs": [
    {
     "data": {
      "image/png": "[encoded data removed]",
      "text/plain": [
       "<Figure size 640x480 with 1 Axes>"
      ]
     },
     "metadata": {},
     "output_type": "display_data"
    }
   ],
   "source": [
    "plt.scatter(df.bmi,df.charges,color='y')\n",
    "plt.show()"
   ]
  },
  {
   "cell_type": "markdown",
   "id": "433d6a65-38d3-48bf-9e31-2a1d14ca6150",
   "metadata": {},
   "source": [
    "The below barplot telling that how many female&male have smoking habit or not depends on age"
   ]
  },
  {
   "cell_type": "code",
   "execution_count": 16,
   "id": "66d4bb38-dac4-4d29-8e25-f0f1ac73e6cf",
   "metadata": {},
   "outputs": [
    {
     "data": {
      "image/png": "[encoded data removed]",
      "text/plain": [
       "<Figure size 640x480 with 1 Axes>"
      ]
     },
     "metadata": {},
     "output_type": "display_data"
    }
   ],
   "source": [
    "sns.barplot(df,x='sex',y='age',hue='smoker')\n",
    "plt.show()"
   ]
  },
  {
   "cell_type": "markdown",
   "id": "66c1da24-5154-4bde-978d-b2925f9d95ba",
   "metadata": {},
   "source": [
    "The bmi and charges column is a mixed data type so we convert its as float to .astype(float)"
   ]
  },
  {
   "cell_type": "code",
   "execution_count": 17,
   "id": "513c2e74-5330-4dd0-8bfa-50b7d7ec3bbb",
   "metadata": {},
   "outputs": [],
   "source": [
    "df['bmi'] = df['bmi'].astype(float)\n",
    "df['charges'] = df['charges'].astype(float)"
   ]
  },
  {
   "cell_type": "markdown",
   "id": "3b15f6b0-9081-4fab-89b0-931c326125d8",
   "metadata": {},
   "source": [
    "we encoding a data to proceed the linear regression model. To use label encoder to change the catagorical data to numerical data.\n",
    "to import the library for label encoder\n"
   ]
  },
  {
   "cell_type": "code",
   "execution_count": 18,
   "id": "ac3d49cd-3bd6-4c58-8182-2636042b4422",
   "metadata": {},
   "outputs": [],
   "source": [
    "from sklearn.preprocessing import LabelEncoder\n",
    "label_encoder = LabelEncoder()\n",
    "df.sex =label_encoder.fit_transform(df['sex'])\n",
    "df.smoker =label_encoder.fit_transform(df['smoker'])\n",
    "df.region =label_encoder.fit_transform(df['region'])"
   ]
  },
  {
   "cell_type": "markdown",
   "id": "18f6e431-3bb3-4d7f-a7b5-b5f09d56467d",
   "metadata": {},
   "source": [
    "To check the data chage or not to head()"
   ]
  },
  {
   "cell_type": "code",
   "execution_count": 19,
   "id": "0fe54d2c-73a3-48ca-84ef-763c82cb2f47",
   "metadata": {},
   "outputs": [
    {
     "data": {
      "text/html": [
       "<div>\n",
       "<style scoped>\n",
       "    .dataframe tbody tr th:only-of-type {\n",
       "        vertical-align: middle;\n",
       "    }\n",
       "\n",
       "    .dataframe tbody tr th {\n",
       "        vertical-align: top;\n",
       "    }\n",
       "\n",
       "    .dataframe thead th {\n",
       "        text-align: right;\n",
       "    }\n",
       "</style>\n",
       "<table border=\"1\" class=\"dataframe\">\n",
       "  <thead>\n",
       "    <tr style=\"text-align: right;\">\n",
       "      <th></th>\n",
       "      <th>age</th>\n",
       "      <th>sex</th>\n",
       "      <th>bmi</th>\n",
       "      <th>children</th>\n",
       "      <th>smoker</th>\n",
       "      <th>region</th>\n",
       "      <th>charges</th>\n",
       "    </tr>\n",
       "  </thead>\n",
       "  <tbody>\n",
       "    <tr>\n",
       "      <th>0</th>\n",
       "      <td>19</td>\n",
       "      <td>0</td>\n",
       "      <td>27.900</td>\n",
       "      <td>0</td>\n",
       "      <td>1</td>\n",
       "      <td>3</td>\n",
       "      <td>16884.92400</td>\n",
       "    </tr>\n",
       "    <tr>\n",
       "      <th>1</th>\n",
       "      <td>18</td>\n",
       "      <td>1</td>\n",
       "      <td>33.770</td>\n",
       "      <td>1</td>\n",
       "      <td>0</td>\n",
       "      <td>2</td>\n",
       "      <td>1725.55230</td>\n",
       "    </tr>\n",
       "    <tr>\n",
       "      <th>2</th>\n",
       "      <td>28</td>\n",
       "      <td>1</td>\n",
       "      <td>33.000</td>\n",
       "      <td>3</td>\n",
       "      <td>0</td>\n",
       "      <td>2</td>\n",
       "      <td>4449.46200</td>\n",
       "    </tr>\n",
       "    <tr>\n",
       "      <th>3</th>\n",
       "      <td>33</td>\n",
       "      <td>1</td>\n",
       "      <td>22.705</td>\n",
       "      <td>0</td>\n",
       "      <td>0</td>\n",
       "      <td>1</td>\n",
       "      <td>21984.47061</td>\n",
       "    </tr>\n",
       "    <tr>\n",
       "      <th>4</th>\n",
       "      <td>32</td>\n",
       "      <td>1</td>\n",
       "      <td>28.880</td>\n",
       "      <td>0</td>\n",
       "      <td>0</td>\n",
       "      <td>1</td>\n",
       "      <td>3866.85520</td>\n",
       "    </tr>\n",
       "  </tbody>\n",
       "</table>\n",
       "</div>"
      ],
      "text/plain": [
       "   age  sex     bmi  children  smoker  region      charges\n",
       "0   19    0  27.900         0       1       3  16884.92400\n",
       "1   18    1  33.770         1       0       2   1725.55230\n",
       "2   28    1  33.000         3       0       2   4449.46200\n",
       "3   33    1  22.705         0       0       1  21984.47061\n",
       "4   32    1  28.880         0       0       1   3866.85520"
      ]
     },
     "execution_count": 19,
     "metadata": {},
     "output_type": "execute_result"
    }
   ],
   "source": [
    "df.head()"
   ]
  },
  {
   "cell_type": "markdown",
   "id": "5336b73a-d510-45dd-8cfe-054ee47b7d5a",
   "metadata": {},
   "source": [
    "To check the correlation of the data"
   ]
  },
  {
   "cell_type": "code",
   "execution_count": 20,
   "id": "458f739c-3f94-4315-94ea-f49bece2d579",
   "metadata": {},
   "outputs": [
    {
     "data": {
      "text/html": [
       "<div>\n",
       "<style scoped>\n",
       "    .dataframe tbody tr th:only-of-type {\n",
       "        vertical-align: middle;\n",
       "    }\n",
       "\n",
       "    .dataframe tbody tr th {\n",
       "        vertical-align: top;\n",
       "    }\n",
       "\n",
       "    .dataframe thead th {\n",
       "        text-align: right;\n",
       "    }\n",
       "</style>\n",
       "<table border=\"1\" class=\"dataframe\">\n",
       "  <thead>\n",
       "    <tr style=\"text-align: right;\">\n",
       "      <th></th>\n",
       "      <th>age</th>\n",
       "      <th>sex</th>\n",
       "      <th>bmi</th>\n",
       "      <th>children</th>\n",
       "      <th>smoker</th>\n",
       "      <th>region</th>\n",
       "      <th>charges</th>\n",
       "    </tr>\n",
       "  </thead>\n",
       "  <tbody>\n",
       "    <tr>\n",
       "      <th>age</th>\n",
       "      <td>1.000000</td>\n",
       "      <td>-0.020856</td>\n",
       "      <td>0.109272</td>\n",
       "      <td>0.042469</td>\n",
       "      <td>-0.025019</td>\n",
       "      <td>0.002127</td>\n",
       "      <td>0.299008</td>\n",
       "    </tr>\n",
       "    <tr>\n",
       "      <th>sex</th>\n",
       "      <td>-0.020856</td>\n",
       "      <td>1.000000</td>\n",
       "      <td>0.046371</td>\n",
       "      <td>0.017163</td>\n",
       "      <td>0.076185</td>\n",
       "      <td>0.004588</td>\n",
       "      <td>0.057292</td>\n",
       "    </tr>\n",
       "    <tr>\n",
       "      <th>bmi</th>\n",
       "      <td>0.109272</td>\n",
       "      <td>0.046371</td>\n",
       "      <td>1.000000</td>\n",
       "      <td>0.012759</td>\n",
       "      <td>0.003750</td>\n",
       "      <td>0.157566</td>\n",
       "      <td>0.198341</td>\n",
       "    </tr>\n",
       "    <tr>\n",
       "      <th>children</th>\n",
       "      <td>0.042469</td>\n",
       "      <td>0.017163</td>\n",
       "      <td>0.012759</td>\n",
       "      <td>1.000000</td>\n",
       "      <td>0.007673</td>\n",
       "      <td>0.016569</td>\n",
       "      <td>0.067998</td>\n",
       "    </tr>\n",
       "    <tr>\n",
       "      <th>smoker</th>\n",
       "      <td>-0.025019</td>\n",
       "      <td>0.076185</td>\n",
       "      <td>0.003750</td>\n",
       "      <td>0.007673</td>\n",
       "      <td>1.000000</td>\n",
       "      <td>-0.002181</td>\n",
       "      <td>0.787251</td>\n",
       "    </tr>\n",
       "    <tr>\n",
       "      <th>region</th>\n",
       "      <td>0.002127</td>\n",
       "      <td>0.004588</td>\n",
       "      <td>0.157566</td>\n",
       "      <td>0.016569</td>\n",
       "      <td>-0.002181</td>\n",
       "      <td>1.000000</td>\n",
       "      <td>-0.006208</td>\n",
       "    </tr>\n",
       "    <tr>\n",
       "      <th>charges</th>\n",
       "      <td>0.299008</td>\n",
       "      <td>0.057292</td>\n",
       "      <td>0.198341</td>\n",
       "      <td>0.067998</td>\n",
       "      <td>0.787251</td>\n",
       "      <td>-0.006208</td>\n",
       "      <td>1.000000</td>\n",
       "    </tr>\n",
       "  </tbody>\n",
       "</table>\n",
       "</div>"
      ],
      "text/plain": [
       "               age       sex       bmi  children    smoker    region   charges\n",
       "age       1.000000 -0.020856  0.109272  0.042469 -0.025019  0.002127  0.299008\n",
       "sex      -0.020856  1.000000  0.046371  0.017163  0.076185  0.004588  0.057292\n",
       "bmi       0.109272  0.046371  1.000000  0.012759  0.003750  0.157566  0.198341\n",
       "children  0.042469  0.017163  0.012759  1.000000  0.007673  0.016569  0.067998\n",
       "smoker   -0.025019  0.076185  0.003750  0.007673  1.000000 -0.002181  0.787251\n",
       "region    0.002127  0.004588  0.157566  0.016569 -0.002181  1.000000 -0.006208\n",
       "charges   0.299008  0.057292  0.198341  0.067998  0.787251 -0.006208  1.000000"
      ]
     },
     "execution_count": 20,
     "metadata": {},
     "output_type": "execute_result"
    }
   ],
   "source": [
    "df.corr()"
   ]
  },
  {
   "cell_type": "markdown",
   "id": "1cfabc8c-9460-4f53-b2e1-3a19770bf34b",
   "metadata": {},
   "source": [
    "To drop the column region. i feel its unwanted column"
   ]
  },
  {
   "cell_type": "code",
   "execution_count": 21,
   "id": "595dbf9a-fb33-4485-8e64-c5ece9a877f8",
   "metadata": {},
   "outputs": [],
   "source": [
    "df = df.drop(['region'],axis=1)"
   ]
  },
  {
   "cell_type": "code",
   "execution_count": 22,
   "id": "97d61431-9b15-44c2-8af7-c9305d752472",
   "metadata": {},
   "outputs": [
    {
     "data": {
      "text/html": [
       "<div>\n",
       "<style scoped>\n",
       "    .dataframe tbody tr th:only-of-type {\n",
       "        vertical-align: middle;\n",
       "    }\n",
       "\n",
       "    .dataframe tbody tr th {\n",
       "        vertical-align: top;\n",
       "    }\n",
       "\n",
       "    .dataframe thead th {\n",
       "        text-align: right;\n",
       "    }\n",
       "</style>\n",
       "<table border=\"1\" class=\"dataframe\">\n",
       "  <thead>\n",
       "    <tr style=\"text-align: right;\">\n",
       "      <th></th>\n",
       "      <th>age</th>\n",
       "      <th>sex</th>\n",
       "      <th>bmi</th>\n",
       "      <th>children</th>\n",
       "      <th>smoker</th>\n",
       "      <th>charges</th>\n",
       "    </tr>\n",
       "  </thead>\n",
       "  <tbody>\n",
       "    <tr>\n",
       "      <th>0</th>\n",
       "      <td>19</td>\n",
       "      <td>0</td>\n",
       "      <td>27.900</td>\n",
       "      <td>0</td>\n",
       "      <td>1</td>\n",
       "      <td>16884.92400</td>\n",
       "    </tr>\n",
       "    <tr>\n",
       "      <th>1</th>\n",
       "      <td>18</td>\n",
       "      <td>1</td>\n",
       "      <td>33.770</td>\n",
       "      <td>1</td>\n",
       "      <td>0</td>\n",
       "      <td>1725.55230</td>\n",
       "    </tr>\n",
       "    <tr>\n",
       "      <th>2</th>\n",
       "      <td>28</td>\n",
       "      <td>1</td>\n",
       "      <td>33.000</td>\n",
       "      <td>3</td>\n",
       "      <td>0</td>\n",
       "      <td>4449.46200</td>\n",
       "    </tr>\n",
       "    <tr>\n",
       "      <th>3</th>\n",
       "      <td>33</td>\n",
       "      <td>1</td>\n",
       "      <td>22.705</td>\n",
       "      <td>0</td>\n",
       "      <td>0</td>\n",
       "      <td>21984.47061</td>\n",
       "    </tr>\n",
       "    <tr>\n",
       "      <th>4</th>\n",
       "      <td>32</td>\n",
       "      <td>1</td>\n",
       "      <td>28.880</td>\n",
       "      <td>0</td>\n",
       "      <td>0</td>\n",
       "      <td>3866.85520</td>\n",
       "    </tr>\n",
       "    <tr>\n",
       "      <th>...</th>\n",
       "      <td>...</td>\n",
       "      <td>...</td>\n",
       "      <td>...</td>\n",
       "      <td>...</td>\n",
       "      <td>...</td>\n",
       "      <td>...</td>\n",
       "    </tr>\n",
       "    <tr>\n",
       "      <th>1333</th>\n",
       "      <td>50</td>\n",
       "      <td>1</td>\n",
       "      <td>30.970</td>\n",
       "      <td>3</td>\n",
       "      <td>0</td>\n",
       "      <td>10600.54830</td>\n",
       "    </tr>\n",
       "    <tr>\n",
       "      <th>1334</th>\n",
       "      <td>18</td>\n",
       "      <td>0</td>\n",
       "      <td>31.920</td>\n",
       "      <td>0</td>\n",
       "      <td>0</td>\n",
       "      <td>2205.98080</td>\n",
       "    </tr>\n",
       "    <tr>\n",
       "      <th>1335</th>\n",
       "      <td>18</td>\n",
       "      <td>0</td>\n",
       "      <td>36.850</td>\n",
       "      <td>0</td>\n",
       "      <td>0</td>\n",
       "      <td>1629.83350</td>\n",
       "    </tr>\n",
       "    <tr>\n",
       "      <th>1336</th>\n",
       "      <td>21</td>\n",
       "      <td>0</td>\n",
       "      <td>25.800</td>\n",
       "      <td>0</td>\n",
       "      <td>0</td>\n",
       "      <td>2007.94500</td>\n",
       "    </tr>\n",
       "    <tr>\n",
       "      <th>1337</th>\n",
       "      <td>61</td>\n",
       "      <td>0</td>\n",
       "      <td>29.070</td>\n",
       "      <td>0</td>\n",
       "      <td>1</td>\n",
       "      <td>29141.36030</td>\n",
       "    </tr>\n",
       "  </tbody>\n",
       "</table>\n",
       "<p>1338 rows × 6 columns</p>\n",
       "</div>"
      ],
      "text/plain": [
       "      age  sex     bmi  children  smoker      charges\n",
       "0      19    0  27.900         0       1  16884.92400\n",
       "1      18    1  33.770         1       0   1725.55230\n",
       "2      28    1  33.000         3       0   4449.46200\n",
       "3      33    1  22.705         0       0  21984.47061\n",
       "4      32    1  28.880         0       0   3866.85520\n",
       "...   ...  ...     ...       ...     ...          ...\n",
       "1333   50    1  30.970         3       0  10600.54830\n",
       "1334   18    0  31.920         0       0   2205.98080\n",
       "1335   18    0  36.850         0       0   1629.83350\n",
       "1336   21    0  25.800         0       0   2007.94500\n",
       "1337   61    0  29.070         0       1  29141.36030\n",
       "\n",
       "[1338 rows x 6 columns]"
      ]
     },
     "execution_count": 22,
     "metadata": {},
     "output_type": "execute_result"
    }
   ],
   "source": [
    "df"
   ]
  },
  {
   "cell_type": "markdown",
   "id": "a44e54c5-ed75-4b32-a29b-4c37d32e4ea7",
   "metadata": {},
   "source": [
    "To show the heatmap for correlation for better understanding"
   ]
  },
  {
   "cell_type": "code",
   "execution_count": 23,
   "id": "c988530f-abb9-4b0e-8d5b-09cff9085f0c",
   "metadata": {},
   "outputs": [
    {
     "data": {
      "image/png": "[encoded data removed]",
      "text/plain": [
       "<Figure size 800x600 with 2 Axes>"
      ]
     },
     "metadata": {},
     "output_type": "display_data"
    }
   ],
   "source": [
    "plt.figure(figsize=(8,6))\n",
    "sns.heatmap(df.corr(),annot = True,cbar = True,vmin = -1,vmax =1,cmap='pink')\n",
    "plt.yticks(rotation = 'horizontal',fontsize = 8)\n",
    "plt.xticks(fontsize = 15)\n",
    "plt.show()"
   ]
  },
  {
   "cell_type": "markdown",
   "id": "ed9734e4-12be-43c0-9149-ff951cc9bcfa",
   "metadata": {},
   "source": [
    "To change charges column value to standard scaler To proceed linear regression.\n",
    "to import the library for Standardscaler"
   ]
  },
  {
   "cell_type": "code",
   "execution_count": 24,
   "id": "1c60ea7e-78a5-4214-b424-219ef1cba787",
   "metadata": {},
   "outputs": [],
   "source": [
    "from sklearn.preprocessing import StandardScaler\n",
    "charges_scaler =StandardScaler()"
   ]
  },
  {
   "cell_type": "markdown",
   "id": "f2e25f0d-ed86-4da3-a734-696151785b24",
   "metadata": {},
   "source": [
    "to transform the standardscaler value to charges to use fit_transform"
   ]
  },
  {
   "cell_type": "code",
   "execution_count": 25,
   "id": "703a2d11-19c8-45d6-a8d1-65ac409e382a",
   "metadata": {},
   "outputs": [],
   "source": [
    "df.charges = charges_scaler.fit_transform(df[['charges']])"
   ]
  },
  {
   "cell_type": "code",
   "execution_count": 26,
   "id": "88a8f3df-6f37-4f6d-9516-10dc754a1095",
   "metadata": {},
   "outputs": [
    {
     "data": {
      "text/html": [
       "<div>\n",
       "<style scoped>\n",
       "    .dataframe tbody tr th:only-of-type {\n",
       "        vertical-align: middle;\n",
       "    }\n",
       "\n",
       "    .dataframe tbody tr th {\n",
       "        vertical-align: top;\n",
       "    }\n",
       "\n",
       "    .dataframe thead th {\n",
       "        text-align: right;\n",
       "    }\n",
       "</style>\n",
       "<table border=\"1\" class=\"dataframe\">\n",
       "  <thead>\n",
       "    <tr style=\"text-align: right;\">\n",
       "      <th></th>\n",
       "      <th>age</th>\n",
       "      <th>sex</th>\n",
       "      <th>bmi</th>\n",
       "      <th>children</th>\n",
       "      <th>smoker</th>\n",
       "      <th>charges</th>\n",
       "    </tr>\n",
       "  </thead>\n",
       "  <tbody>\n",
       "    <tr>\n",
       "      <th>0</th>\n",
       "      <td>19</td>\n",
       "      <td>0</td>\n",
       "      <td>27.900</td>\n",
       "      <td>0</td>\n",
       "      <td>1</td>\n",
       "      <td>0.298584</td>\n",
       "    </tr>\n",
       "    <tr>\n",
       "      <th>1</th>\n",
       "      <td>18</td>\n",
       "      <td>1</td>\n",
       "      <td>33.770</td>\n",
       "      <td>1</td>\n",
       "      <td>0</td>\n",
       "      <td>-0.953689</td>\n",
       "    </tr>\n",
       "    <tr>\n",
       "      <th>2</th>\n",
       "      <td>28</td>\n",
       "      <td>1</td>\n",
       "      <td>33.000</td>\n",
       "      <td>3</td>\n",
       "      <td>0</td>\n",
       "      <td>-0.728675</td>\n",
       "    </tr>\n",
       "    <tr>\n",
       "      <th>3</th>\n",
       "      <td>33</td>\n",
       "      <td>1</td>\n",
       "      <td>22.705</td>\n",
       "      <td>0</td>\n",
       "      <td>0</td>\n",
       "      <td>0.719843</td>\n",
       "    </tr>\n",
       "    <tr>\n",
       "      <th>4</th>\n",
       "      <td>32</td>\n",
       "      <td>1</td>\n",
       "      <td>28.880</td>\n",
       "      <td>0</td>\n",
       "      <td>0</td>\n",
       "      <td>-0.776802</td>\n",
       "    </tr>\n",
       "  </tbody>\n",
       "</table>\n",
       "</div>"
      ],
      "text/plain": [
       "   age  sex     bmi  children  smoker   charges\n",
       "0   19    0  27.900         0       1  0.298584\n",
       "1   18    1  33.770         1       0 -0.953689\n",
       "2   28    1  33.000         3       0 -0.728675\n",
       "3   33    1  22.705         0       0  0.719843\n",
       "4   32    1  28.880         0       0 -0.776802"
      ]
     },
     "execution_count": 26,
     "metadata": {},
     "output_type": "execute_result"
    }
   ],
   "source": [
    "df.head()"
   ]
  },
  {
   "cell_type": "markdown",
   "id": "d9bffdfe-e62d-4bcb-9e44-e15f42c52d26",
   "metadata": {},
   "source": [
    "To assign the value x and drop the charges column"
   ]
  },
  {
   "cell_type": "code",
   "execution_count": 27,
   "id": "bcebcdc0-4d2e-413b-9f0d-ed9152e9eb1e",
   "metadata": {},
   "outputs": [
    {
     "data": {
      "text/html": [
       "<div>\n",
       "<style scoped>\n",
       "    .dataframe tbody tr th:only-of-type {\n",
       "        vertical-align: middle;\n",
       "    }\n",
       "\n",
       "    .dataframe tbody tr th {\n",
       "        vertical-align: top;\n",
       "    }\n",
       "\n",
       "    .dataframe thead th {\n",
       "        text-align: right;\n",
       "    }\n",
       "</style>\n",
       "<table border=\"1\" class=\"dataframe\">\n",
       "  <thead>\n",
       "    <tr style=\"text-align: right;\">\n",
       "      <th></th>\n",
       "      <th>age</th>\n",
       "      <th>sex</th>\n",
       "      <th>bmi</th>\n",
       "      <th>children</th>\n",
       "      <th>smoker</th>\n",
       "    </tr>\n",
       "  </thead>\n",
       "  <tbody>\n",
       "    <tr>\n",
       "      <th>0</th>\n",
       "      <td>19</td>\n",
       "      <td>0</td>\n",
       "      <td>27.900</td>\n",
       "      <td>0</td>\n",
       "      <td>1</td>\n",
       "    </tr>\n",
       "    <tr>\n",
       "      <th>1</th>\n",
       "      <td>18</td>\n",
       "      <td>1</td>\n",
       "      <td>33.770</td>\n",
       "      <td>1</td>\n",
       "      <td>0</td>\n",
       "    </tr>\n",
       "    <tr>\n",
       "      <th>2</th>\n",
       "      <td>28</td>\n",
       "      <td>1</td>\n",
       "      <td>33.000</td>\n",
       "      <td>3</td>\n",
       "      <td>0</td>\n",
       "    </tr>\n",
       "    <tr>\n",
       "      <th>3</th>\n",
       "      <td>33</td>\n",
       "      <td>1</td>\n",
       "      <td>22.705</td>\n",
       "      <td>0</td>\n",
       "      <td>0</td>\n",
       "    </tr>\n",
       "    <tr>\n",
       "      <th>4</th>\n",
       "      <td>32</td>\n",
       "      <td>1</td>\n",
       "      <td>28.880</td>\n",
       "      <td>0</td>\n",
       "      <td>0</td>\n",
       "    </tr>\n",
       "    <tr>\n",
       "      <th>...</th>\n",
       "      <td>...</td>\n",
       "      <td>...</td>\n",
       "      <td>...</td>\n",
       "      <td>...</td>\n",
       "      <td>...</td>\n",
       "    </tr>\n",
       "    <tr>\n",
       "      <th>1333</th>\n",
       "      <td>50</td>\n",
       "      <td>1</td>\n",
       "      <td>30.970</td>\n",
       "      <td>3</td>\n",
       "      <td>0</td>\n",
       "    </tr>\n",
       "    <tr>\n",
       "      <th>1334</th>\n",
       "      <td>18</td>\n",
       "      <td>0</td>\n",
       "      <td>31.920</td>\n",
       "      <td>0</td>\n",
       "      <td>0</td>\n",
       "    </tr>\n",
       "    <tr>\n",
       "      <th>1335</th>\n",
       "      <td>18</td>\n",
       "      <td>0</td>\n",
       "      <td>36.850</td>\n",
       "      <td>0</td>\n",
       "      <td>0</td>\n",
       "    </tr>\n",
       "    <tr>\n",
       "      <th>1336</th>\n",
       "      <td>21</td>\n",
       "      <td>0</td>\n",
       "      <td>25.800</td>\n",
       "      <td>0</td>\n",
       "      <td>0</td>\n",
       "    </tr>\n",
       "    <tr>\n",
       "      <th>1337</th>\n",
       "      <td>61</td>\n",
       "      <td>0</td>\n",
       "      <td>29.070</td>\n",
       "      <td>0</td>\n",
       "      <td>1</td>\n",
       "    </tr>\n",
       "  </tbody>\n",
       "</table>\n",
       "<p>1338 rows × 5 columns</p>\n",
       "</div>"
      ],
      "text/plain": [
       "      age  sex     bmi  children  smoker\n",
       "0      19    0  27.900         0       1\n",
       "1      18    1  33.770         1       0\n",
       "2      28    1  33.000         3       0\n",
       "3      33    1  22.705         0       0\n",
       "4      32    1  28.880         0       0\n",
       "...   ...  ...     ...       ...     ...\n",
       "1333   50    1  30.970         3       0\n",
       "1334   18    0  31.920         0       0\n",
       "1335   18    0  36.850         0       0\n",
       "1336   21    0  25.800         0       0\n",
       "1337   61    0  29.070         0       1\n",
       "\n",
       "[1338 rows x 5 columns]"
      ]
     },
     "execution_count": 27,
     "metadata": {},
     "output_type": "execute_result"
    }
   ],
   "source": [
    "x=df.drop(['charges'],axis =1)\n",
    "x"
   ]
  },
  {
   "cell_type": "markdown",
   "id": "c9c45da7-647e-41a7-bb0a-90aad4167814",
   "metadata": {},
   "source": [
    "assign a target value to y"
   ]
  },
  {
   "cell_type": "code",
   "execution_count": 28,
   "id": "e99b9a68-43b3-446f-9120-344012cd75c3",
   "metadata": {},
   "outputs": [],
   "source": [
    "y=df[['charges']]"
   ]
  },
  {
   "cell_type": "markdown",
   "id": "c3f2421c-24bb-4c1b-a887-665466db9a22",
   "metadata": {},
   "source": [
    "split x and y value for train and test to use library train_test_split"
   ]
  },
  {
   "cell_type": "code",
   "execution_count": 29,
   "id": "fcc47a97-c1bb-467a-bab0-6b3a7195292f",
   "metadata": {},
   "outputs": [],
   "source": [
    "from sklearn.model_selection import train_test_split\n",
    "x_train,x_test,y_train,y_test = train_test_split(x,y,test_size = 0.25,random_state = 50) "
   ]
  },
  {
   "cell_type": "markdown",
   "id": "0b9bc405-13e2-43e8-8348-85faef583872",
   "metadata": {},
   "source": [
    "To check the shape of x_train,x_test,y_train and y_test"
   ]
  },
  {
   "cell_type": "code",
   "execution_count": 30,
   "id": "2ea021bd-1259-4745-85d8-3f749d83419f",
   "metadata": {},
   "outputs": [
    {
     "data": {
      "text/plain": [
       "((1003, 5), (335, 5), (1003, 1), (335, 1))"
      ]
     },
     "execution_count": 30,
     "metadata": {},
     "output_type": "execute_result"
    }
   ],
   "source": [
    "x_train.shape,x_test.shape,y_train.shape,y_test.shape"
   ]
  },
  {
   "cell_type": "markdown",
   "id": "3116f3fc-aa25-4e19-b518-7bcb777589dc",
   "metadata": {},
   "source": [
    "To implement the linear regression model using library"
   ]
  },
  {
   "cell_type": "code",
   "execution_count": 31,
   "id": "b44cd959-2ccd-431e-80fe-c1cecf97fbb1",
   "metadata": {},
   "outputs": [],
   "source": [
    "from sklearn.linear_model import LinearRegression"
   ]
  },
  {
   "cell_type": "code",
   "execution_count": 32,
   "id": "626b3cd6-d3d9-4ca3-9ea5-098e82711941",
   "metadata": {},
   "outputs": [],
   "source": [
    "model_lr = LinearRegression()"
   ]
  },
  {
   "cell_type": "markdown",
   "id": "31fe7192-973c-4477-b0ef-e9bac51cf6a5",
   "metadata": {},
   "source": [
    "To train linearregression model"
   ]
  },
  {
   "cell_type": "code",
   "execution_count": 33,
   "id": "9bb9ae1c-2bbd-4f60-9536-d374eebd979c",
   "metadata": {},
   "outputs": [
    {
     "data": {
      "text/html": [
       "<style>#sk-container-id-1 {\n",
       "  /* Definition of color scheme common for light and dark mode */\n",
       "  --sklearn-color-text: black;\n",
       "  --sklearn-color-line: gray;\n",
       "  /* Definition of color scheme for unfitted estimators */\n",
       "  --sklearn-color-unfitted-level-0: #fff5e6;\n",
       "  --sklearn-color-unfitted-level-1: #f6e4d2;\n",
       "  --sklearn-color-unfitted-level-2: #ffe0b3;\n",
       "  --sklearn-color-unfitted-level-3: chocolate;\n",
       "  /* Definition of color scheme for fitted estimators */\n",
       "  --sklearn-color-fitted-level-0: #f0f8ff;\n",
       "  --sklearn-color-fitted-level-1: #d4ebff;\n",
       "  --sklearn-color-fitted-level-2: #b3dbfd;\n",
       "  --sklearn-color-fitted-level-3: cornflowerblue;\n",
       "\n",
       "  /* Specific color for light theme */\n",
       "  --sklearn-color-text-on-default-background: var(--sg-text-color, var(--theme-code-foreground, var(--jp-content-font-color1, black)));\n",
       "  --sklearn-color-background: var(--sg-background-color, var(--theme-background, var(--jp-layout-color0, white)));\n",
       "  --sklearn-color-border-box: var(--sg-text-color, var(--theme-code-foreground, var(--jp-content-font-color1, black)));\n",
       "  --sklearn-color-icon: #696969;\n",
       "\n",
       "  @media (prefers-color-scheme: dark) {\n",
       "    /* Redefinition of color scheme for dark theme */\n",
       "    --sklearn-color-text-on-default-background: var(--sg-text-color, var(--theme-code-foreground, var(--jp-content-font-color1, white)));\n",
       "    --sklearn-color-background: var(--sg-background-color, var(--theme-background, var(--jp-layout-color0, #111)));\n",
       "    --sklearn-color-border-box: var(--sg-text-color, var(--theme-code-foreground, var(--jp-content-font-color1, white)));\n",
       "    --sklearn-color-icon: #878787;\n",
       "  }\n",
       "}\n",
       "\n",
       "#sk-container-id-1 {\n",
       "  color: var(--sklearn-color-text);\n",
       "}\n",
       "\n",
       "#sk-container-id-1 pre {\n",
       "  padding: 0;\n",
       "}\n",
       "\n",
       "#sk-container-id-1 input.sk-hidden--visually {\n",
       "  border: 0;\n",
       "  clip: rect(1px 1px 1px 1px);\n",
       "  clip: rect(1px, 1px, 1px, 1px);\n",
       "  height: 1px;\n",
       "  margin: -1px;\n",
       "  overflow: hidden;\n",
       "  padding: 0;\n",
       "  position: absolute;\n",
       "  width: 1px;\n",
       "}\n",
       "\n",
       "#sk-container-id-1 div.sk-dashed-wrapped {\n",
       "  border: 1px dashed var(--sklearn-color-line);\n",
       "  margin: 0 0.4em 0.5em 0.4em;\n",
       "  box-sizing: border-box;\n",
       "  padding-bottom: 0.4em;\n",
       "  background-color: var(--sklearn-color-background);\n",
       "}\n",
       "\n",
       "#sk-container-id-1 div.sk-container {\n",
       "  /* jupyter's `normalize.less` sets `[hidden] { display: none; }`\n",
       "     but bootstrap.min.css set `[hidden] { display: none !important; }`\n",
       "     so we also need the `!important` here to be able to override the\n",
       "     default hidden behavior on the sphinx rendered scikit-learn.org.\n",
       "     See: https://github.com/scikit-learn/scikit-learn/issues/21755 */\n",
       "  display: inline-block !important;\n",
       "  position: relative;\n",
       "}\n",
       "\n",
       "#sk-container-id-1 div.sk-text-repr-fallback {\n",
       "  display: none;\n",
       "}\n",
       "\n",
       "div.sk-parallel-item,\n",
       "div.sk-serial,\n",
       "div.sk-item {\n",
       "  /* draw centered vertical line to link estimators */\n",
       "  background-image: linear-gradient(var(--sklearn-color-text-on-default-background), var(--sklearn-color-text-on-default-background));\n",
       "  background-size: 2px 100%;\n",
       "  background-repeat: no-repeat;\n",
       "  background-position: center center;\n",
       "}\n",
       "\n",
       "/* Parallel-specific style estimator block */\n",
       "\n",
       "#sk-container-id-1 div.sk-parallel-item::after {\n",
       "  content: \"\";\n",
       "  width: 100%;\n",
       "  border-bottom: 2px solid var(--sklearn-color-text-on-default-background);\n",
       "  flex-grow: 1;\n",
       "}\n",
       "\n",
       "#sk-container-id-1 div.sk-parallel {\n",
       "  display: flex;\n",
       "  align-items: stretch;\n",
       "  justify-content: center;\n",
       "  background-color: var(--sklearn-color-background);\n",
       "  position: relative;\n",
       "}\n",
       "\n",
       "#sk-container-id-1 div.sk-parallel-item {\n",
       "  display: flex;\n",
       "  flex-direction: column;\n",
       "}\n",
       "\n",
       "#sk-container-id-1 div.sk-parallel-item:first-child::after {\n",
       "  align-self: flex-end;\n",
       "  width: 50%;\n",
       "}\n",
       "\n",
       "#sk-container-id-1 div.sk-parallel-item:last-child::after {\n",
       "  align-self: flex-start;\n",
       "  width: 50%;\n",
       "}\n",
       "\n",
       "#sk-container-id-1 div.sk-parallel-item:only-child::after {\n",
       "  width: 0;\n",
       "}\n",
       "\n",
       "/* Serial-specific style estimator block */\n",
       "\n",
       "#sk-container-id-1 div.sk-serial {\n",
       "  display: flex;\n",
       "  flex-direction: column;\n",
       "  align-items: center;\n",
       "  background-color: var(--sklearn-color-background);\n",
       "  padding-right: 1em;\n",
       "  padding-left: 1em;\n",
       "}\n",
       "\n",
       "\n",
       "/* Toggleable style: style used for estimator/Pipeline/ColumnTransformer box that is\n",
       "clickable and can be expanded/collapsed.\n",
       "- Pipeline and ColumnTransformer use this feature and define the default style\n",
       "- Estimators will overwrite some part of the style using the `sk-estimator` class\n",
       "*/\n",
       "\n",
       "/* Pipeline and ColumnTransformer style (default) */\n",
       "\n",
       "#sk-container-id-1 div.sk-toggleable {\n",
       "  /* Default theme specific background. It is overwritten whether we have a\n",
       "  specific estimator or a Pipeline/ColumnTransformer */\n",
       "  background-color: var(--sklearn-color-background);\n",
       "}\n",
       "\n",
       "/* Toggleable label */\n",
       "#sk-container-id-1 label.sk-toggleable__label {\n",
       "  cursor: pointer;\n",
       "  display: block;\n",
       "  width: 100%;\n",
       "  margin-bottom: 0;\n",
       "  padding: 0.5em;\n",
       "  box-sizing: border-box;\n",
       "  text-align: center;\n",
       "}\n",
       "\n",
       "#sk-container-id-1 label.sk-toggleable__label-arrow:before {\n",
       "  /* Arrow on the left of the label */\n",
       "  content: \"▸\";\n",
       "  float: left;\n",
       "  margin-right: 0.25em;\n",
       "  color: var(--sklearn-color-icon);\n",
       "}\n",
       "\n",
       "#sk-container-id-1 label.sk-toggleable__label-arrow:hover:before {\n",
       "  color: var(--sklearn-color-text);\n",
       "}\n",
       "\n",
       "/* Toggleable content - dropdown */\n",
       "\n",
       "#sk-container-id-1 div.sk-toggleable__content {\n",
       "  max-height: 0;\n",
       "  max-width: 0;\n",
       "  overflow: hidden;\n",
       "  text-align: left;\n",
       "  /* unfitted */\n",
       "  background-color: var(--sklearn-color-unfitted-level-0);\n",
       "}\n",
       "\n",
       "#sk-container-id-1 div.sk-toggleable__content.fitted {\n",
       "  /* fitted */\n",
       "  background-color: var(--sklearn-color-fitted-level-0);\n",
       "}\n",
       "\n",
       "#sk-container-id-1 div.sk-toggleable__content pre {\n",
       "  margin: 0.2em;\n",
       "  border-radius: 0.25em;\n",
       "  color: var(--sklearn-color-text);\n",
       "  /* unfitted */\n",
       "  background-color: var(--sklearn-color-unfitted-level-0);\n",
       "}\n",
       "\n",
       "#sk-container-id-1 div.sk-toggleable__content.fitted pre {\n",
       "  /* unfitted */\n",
       "  background-color: var(--sklearn-color-fitted-level-0);\n",
       "}\n",
       "\n",
       "#sk-container-id-1 input.sk-toggleable__control:checked~div.sk-toggleable__content {\n",
       "  /* Expand drop-down */\n",
       "  max-height: 200px;\n",
       "  max-width: 100%;\n",
       "  overflow: auto;\n",
       "}\n",
       "\n",
       "#sk-container-id-1 input.sk-toggleable__control:checked~label.sk-toggleable__label-arrow:before {\n",
       "  content: \"▾\";\n",
       "}\n",
       "\n",
       "/* Pipeline/ColumnTransformer-specific style */\n",
       "\n",
       "#sk-container-id-1 div.sk-label input.sk-toggleable__control:checked~label.sk-toggleable__label {\n",
       "  color: var(--sklearn-color-text);\n",
       "  background-color: var(--sklearn-color-unfitted-level-2);\n",
       "}\n",
       "\n",
       "#sk-container-id-1 div.sk-label.fitted input.sk-toggleable__control:checked~label.sk-toggleable__label {\n",
       "  background-color: var(--sklearn-color-fitted-level-2);\n",
       "}\n",
       "\n",
       "/* Estimator-specific style */\n",
       "\n",
       "/* Colorize estimator box */\n",
       "#sk-container-id-1 div.sk-estimator input.sk-toggleable__control:checked~label.sk-toggleable__label {\n",
       "  /* unfitted */\n",
       "  background-color: var(--sklearn-color-unfitted-level-2);\n",
       "}\n",
       "\n",
       "#sk-container-id-1 div.sk-estimator.fitted input.sk-toggleable__control:checked~label.sk-toggleable__label {\n",
       "  /* fitted */\n",
       "  background-color: var(--sklearn-color-fitted-level-2);\n",
       "}\n",
       "\n",
       "#sk-container-id-1 div.sk-label label.sk-toggleable__label,\n",
       "#sk-container-id-1 div.sk-label label {\n",
       "  /* The background is the default theme color */\n",
       "  color: var(--sklearn-color-text-on-default-background);\n",
       "}\n",
       "\n",
       "/* On hover, darken the color of the background */\n",
       "#sk-container-id-1 div.sk-label:hover label.sk-toggleable__label {\n",
       "  color: var(--sklearn-color-text);\n",
       "  background-color: var(--sklearn-color-unfitted-level-2);\n",
       "}\n",
       "\n",
       "/* Label box, darken color on hover, fitted */\n",
       "#sk-container-id-1 div.sk-label.fitted:hover label.sk-toggleable__label.fitted {\n",
       "  color: var(--sklearn-color-text);\n",
       "  background-color: var(--sklearn-color-fitted-level-2);\n",
       "}\n",
       "\n",
       "/* Estimator label */\n",
       "\n",
       "#sk-container-id-1 div.sk-label label {\n",
       "  font-family: monospace;\n",
       "  font-weight: bold;\n",
       "  display: inline-block;\n",
       "  line-height: 1.2em;\n",
       "}\n",
       "\n",
       "#sk-container-id-1 div.sk-label-container {\n",
       "  text-align: center;\n",
       "}\n",
       "\n",
       "/* Estimator-specific */\n",
       "#sk-container-id-1 div.sk-estimator {\n",
       "  font-family: monospace;\n",
       "  border: 1px dotted var(--sklearn-color-border-box);\n",
       "  border-radius: 0.25em;\n",
       "  box-sizing: border-box;\n",
       "  margin-bottom: 0.5em;\n",
       "  /* unfitted */\n",
       "  background-color: var(--sklearn-color-unfitted-level-0);\n",
       "}\n",
       "\n",
       "#sk-container-id-1 div.sk-estimator.fitted {\n",
       "  /* fitted */\n",
       "  background-color: var(--sklearn-color-fitted-level-0);\n",
       "}\n",
       "\n",
       "/* on hover */\n",
       "#sk-container-id-1 div.sk-estimator:hover {\n",
       "  /* unfitted */\n",
       "  background-color: var(--sklearn-color-unfitted-level-2);\n",
       "}\n",
       "\n",
       "#sk-container-id-1 div.sk-estimator.fitted:hover {\n",
       "  /* fitted */\n",
       "  background-color: var(--sklearn-color-fitted-level-2);\n",
       "}\n",
       "\n",
       "/* Specification for estimator info (e.g. \"i\" and \"?\") */\n",
       "\n",
       "/* Common style for \"i\" and \"?\" */\n",
       "\n",
       ".sk-estimator-doc-link,\n",
       "a:link.sk-estimator-doc-link,\n",
       "a:visited.sk-estimator-doc-link {\n",
       "  float: right;\n",
       "  font-size: smaller;\n",
       "  line-height: 1em;\n",
       "  font-family: monospace;\n",
       "  background-color: var(--sklearn-color-background);\n",
       "  border-radius: 1em;\n",
       "  height: 1em;\n",
       "  width: 1em;\n",
       "  text-decoration: none !important;\n",
       "  margin-left: 1ex;\n",
       "  /* unfitted */\n",
       "  border: var(--sklearn-color-unfitted-level-1) 1pt solid;\n",
       "  color: var(--sklearn-color-unfitted-level-1);\n",
       "}\n",
       "\n",
       ".sk-estimator-doc-link.fitted,\n",
       "a:link.sk-estimator-doc-link.fitted,\n",
       "a:visited.sk-estimator-doc-link.fitted {\n",
       "  /* fitted */\n",
       "  border: var(--sklearn-color-fitted-level-1) 1pt solid;\n",
       "  color: var(--sklearn-color-fitted-level-1);\n",
       "}\n",
       "\n",
       "/* On hover */\n",
       "div.sk-estimator:hover .sk-estimator-doc-link:hover,\n",
       ".sk-estimator-doc-link:hover,\n",
       "div.sk-label-container:hover .sk-estimator-doc-link:hover,\n",
       ".sk-estimator-doc-link:hover {\n",
       "  /* unfitted */\n",
       "  background-color: var(--sklearn-color-unfitted-level-3);\n",
       "  color: var(--sklearn-color-background);\n",
       "  text-decoration: none;\n",
       "}\n",
       "\n",
       "div.sk-estimator.fitted:hover .sk-estimator-doc-link.fitted:hover,\n",
       ".sk-estimator-doc-link.fitted:hover,\n",
       "div.sk-label-container:hover .sk-estimator-doc-link.fitted:hover,\n",
       ".sk-estimator-doc-link.fitted:hover {\n",
       "  /* fitted */\n",
       "  background-color: var(--sklearn-color-fitted-level-3);\n",
       "  color: var(--sklearn-color-background);\n",
       "  text-decoration: none;\n",
       "}\n",
       "\n",
       "/* Span, style for the box shown on hovering the info icon */\n",
       ".sk-estimator-doc-link span {\n",
       "  display: none;\n",
       "  z-index: 9999;\n",
       "  position: relative;\n",
       "  font-weight: normal;\n",
       "  right: .2ex;\n",
       "  padding: .5ex;\n",
       "  margin: .5ex;\n",
       "  width: min-content;\n",
       "  min-width: 20ex;\n",
       "  max-width: 50ex;\n",
       "  color: var(--sklearn-color-text);\n",
       "  box-shadow: 2pt 2pt 4pt #999;\n",
       "  /* unfitted */\n",
       "  background: var(--sklearn-color-unfitted-level-0);\n",
       "  border: .5pt solid var(--sklearn-color-unfitted-level-3);\n",
       "}\n",
       "\n",
       ".sk-estimator-doc-link.fitted span {\n",
       "  /* fitted */\n",
       "  background: var(--sklearn-color-fitted-level-0);\n",
       "  border: var(--sklearn-color-fitted-level-3);\n",
       "}\n",
       "\n",
       ".sk-estimator-doc-link:hover span {\n",
       "  display: block;\n",
       "}\n",
       "\n",
       "/* \"?\"-specific style due to the `<a>` HTML tag */\n",
       "\n",
       "#sk-container-id-1 a.estimator_doc_link {\n",
       "  float: right;\n",
       "  font-size: 1rem;\n",
       "  line-height: 1em;\n",
       "  font-family: monospace;\n",
       "  background-color: var(--sklearn-color-background);\n",
       "  border-radius: 1rem;\n",
       "  height: 1rem;\n",
       "  width: 1rem;\n",
       "  text-decoration: none;\n",
       "  /* unfitted */\n",
       "  color: var(--sklearn-color-unfitted-level-1);\n",
       "  border: var(--sklearn-color-unfitted-level-1) 1pt solid;\n",
       "}\n",
       "\n",
       "#sk-container-id-1 a.estimator_doc_link.fitted {\n",
       "  /* fitted */\n",
       "  border: var(--sklearn-color-fitted-level-1) 1pt solid;\n",
       "  color: var(--sklearn-color-fitted-level-1);\n",
       "}\n",
       "\n",
       "/* On hover */\n",
       "#sk-container-id-1 a.estimator_doc_link:hover {\n",
       "  /* unfitted */\n",
       "  background-color: var(--sklearn-color-unfitted-level-3);\n",
       "  color: var(--sklearn-color-background);\n",
       "  text-decoration: none;\n",
       "}\n",
       "\n",
       "#sk-container-id-1 a.estimator_doc_link.fitted:hover {\n",
       "  /* fitted */\n",
       "  background-color: var(--sklearn-color-fitted-level-3);\n",
       "}\n",
       "</style><div id=\"sk-container-id-1\" class=\"sk-top-container\"><div class=\"sk-text-repr-fallback\"><pre>LinearRegression()</pre><b>In a Jupyter environment, please rerun this cell to show the HTML representation or trust the notebook. <br />On GitHub, the HTML representation is unable to render, please try loading this page with nbviewer.org.</b></div><div class=\"sk-container\" hidden><div class=\"sk-item\"><div class=\"sk-estimator fitted sk-toggleable\"><input class=\"sk-toggleable__control sk-hidden--visually\" id=\"sk-estimator-id-1\" type=\"checkbox\" checked><label for=\"sk-estimator-id-1\" class=\"sk-toggleable__label fitted sk-toggleable__label-arrow fitted\">&nbsp;&nbsp;LinearRegression<a class=\"sk-estimator-doc-link fitted\" rel=\"noreferrer\" target=\"_blank\" href=\"https://scikit-learn.org/1.5/modules/generated/sklearn.linear_model.LinearRegression.html\">?<span>Documentation for LinearRegression</span></a><span class=\"sk-estimator-doc-link fitted\">i<span>Fitted</span></span></label><div class=\"sk-toggleable__content fitted\"><pre>LinearRegression()</pre></div> </div></div></div></div>"
      ],
      "text/plain": [
       "LinearRegression()"
      ]
     },
     "execution_count": 33,
     "metadata": {},
     "output_type": "execute_result"
    }
   ],
   "source": [
    "model_lr.fit(x_train,y_train)"
   ]
  },
  {
   "cell_type": "markdown",
   "id": "a002de15-8ce6-49d2-b17c-7d6295638ace",
   "metadata": {},
   "source": [
    "To check the coef value of the model"
   ]
  },
  {
   "cell_type": "code",
   "execution_count": 34,
   "id": "ace432c6-f67f-460f-93c7-93b65004c8a3",
   "metadata": {},
   "outputs": [
    {
     "data": {
      "text/plain": [
       "array([[ 0.02095873, -0.01639027,  0.02510579,  0.03433472,  1.9609878 ]])"
      ]
     },
     "execution_count": 34,
     "metadata": {},
     "output_type": "execute_result"
    }
   ],
   "source": [
    "model_lr.coef_"
   ]
  },
  {
   "cell_type": "markdown",
   "id": "25d597ea-4d98-438b-8360-392b5b795d21",
   "metadata": {},
   "source": [
    "To check the intercept value of the model"
   ]
  },
  {
   "cell_type": "code",
   "execution_count": 35,
   "id": "00c66910-5c20-4ed9-b0e5-2599a6571c7c",
   "metadata": {},
   "outputs": [
    {
     "data": {
      "text/plain": [
       "array([-2.02637421])"
      ]
     },
     "execution_count": 35,
     "metadata": {},
     "output_type": "execute_result"
    }
   ],
   "source": [
    "model_lr.intercept_"
   ]
  },
  {
   "cell_type": "markdown",
   "id": "b103d061-44aa-49e4-87bf-0b2298a63050",
   "metadata": {},
   "source": [
    "To predict the y value"
   ]
  },
  {
   "cell_type": "code",
   "execution_count": 36,
   "id": "9512ad21-a052-4dca-96f8-01edf50a19cf",
   "metadata": {},
   "outputs": [],
   "source": [
    "y_pre = model_lr.predict(x_test)"
   ]
  },
  {
   "cell_type": "code",
   "execution_count": 37,
   "id": "cfc44ed7-28ab-411e-a2e3-8cf4ffca71ae",
   "metadata": {
    "scrolled": true
   },
   "outputs": [
    {
     "data": {
      "text/plain": [
       "array([[-0.42511086],\n",
       "       [-0.13606406],\n",
       "       [ 0.31487692],\n",
       "       [-0.15321937],\n",
       "       [-1.05421806],\n",
       "       [ 2.12852802],\n",
       "       [ 1.09976096],\n",
       "       [-0.44114598],\n",
       "       [-1.00545053],\n",
       "       [-0.12864331],\n",
       "       [-0.32088002],\n",
       "       [ 1.57555668],\n",
       "       [-0.42607488],\n",
       "       [ 1.48292213],\n",
       "       [-0.45450305],\n",
       "       [-0.29276528],\n",
       "       [-0.14033291],\n",
       "       [-0.7075903 ],\n",
       "       [-0.08145522],\n",
       "       [-0.38262682],\n",
       "       [-1.18127517],\n",
       "       [ 1.94987692],\n",
       "       [-0.5581082 ],\n",
       "       [-0.36033331],\n",
       "       [-0.73229901],\n",
       "       [-0.19598453],\n",
       "       [-0.63504169],\n",
       "       [ 2.04855952],\n",
       "       [-1.04570547],\n",
       "       [-1.08594006],\n",
       "       [ 1.99572673],\n",
       "       [-0.73845901],\n",
       "       [ 0.10733782],\n",
       "       [-0.96800558],\n",
       "       [-0.99161121],\n",
       "       [-0.6049866 ],\n",
       "       [-0.31239009],\n",
       "       [-0.97609553],\n",
       "       [-0.09928795],\n",
       "       [ 2.158883  ],\n",
       "       [-0.30059692],\n",
       "       [-0.54136147],\n",
       "       [ 0.30241443],\n",
       "       [ 0.00912776],\n",
       "       [ 1.84031144],\n",
       "       [ 0.05089411],\n",
       "       [ 1.73148207],\n",
       "       [-0.71758039],\n",
       "       [-0.04770015],\n",
       "       [-0.29361383],\n",
       "       [ 2.20491286],\n",
       "       [-0.32482861],\n",
       "       [-0.54984982],\n",
       "       [ 2.06726577],\n",
       "       [-0.14207067],\n",
       "       [ 1.82550836],\n",
       "       [-0.17810173],\n",
       "       [-0.75550928],\n",
       "       [-0.11496708],\n",
       "       [ 0.03182003],\n",
       "       [ 0.02828268],\n",
       "       [-0.47965525],\n",
       "       [-0.80415516],\n",
       "       [-0.94572881],\n",
       "       [-0.34680079],\n",
       "       [-0.23167944],\n",
       "       [-0.6179024 ],\n",
       "       [ 0.0685347 ],\n",
       "       [-0.61408805],\n",
       "       [ 0.13275741],\n",
       "       [ 0.09239017],\n",
       "       [-0.59066054],\n",
       "       [-0.79928702],\n",
       "       [-0.2827008 ],\n",
       "       [-0.09213316],\n",
       "       [ 1.04332345],\n",
       "       [-0.38508252],\n",
       "       [-0.30483024],\n",
       "       [ 1.69497192],\n",
       "       [-0.68806727],\n",
       "       [-0.77207377],\n",
       "       [ 1.21594297],\n",
       "       [-0.9559737 ],\n",
       "       [ 0.06058335],\n",
       "       [-0.92238502],\n",
       "       [-0.76027103],\n",
       "       [ 0.06355425],\n",
       "       [-0.71125814],\n",
       "       [-0.85555053],\n",
       "       [-0.84052389],\n",
       "       [-0.76506717],\n",
       "       [-0.17567922],\n",
       "       [-0.73043038],\n",
       "       [ 1.30830177],\n",
       "       [ 1.70980483],\n",
       "       [-0.16621827],\n",
       "       [-0.34490355],\n",
       "       [-0.21416524],\n",
       "       [ 1.01186971],\n",
       "       [-0.79462209],\n",
       "       [-0.59997258],\n",
       "       [-1.00998375],\n",
       "       [ 1.93622017],\n",
       "       [-0.01660568],\n",
       "       [ 1.28800205],\n",
       "       [-0.26962191],\n",
       "       [ 1.59079633],\n",
       "       [-0.24309969],\n",
       "       [-0.1880419 ],\n",
       "       [-0.38551362],\n",
       "       [-0.43371833],\n",
       "       [-0.24810545],\n",
       "       [-0.69707434],\n",
       "       [-0.50852984],\n",
       "       [-0.87656235],\n",
       "       [-0.6602546 ],\n",
       "       [-0.51012814],\n",
       "       [-0.12011655],\n",
       "       [ 0.2502295 ],\n",
       "       [ 1.66324328],\n",
       "       [-0.82184093],\n",
       "       [-0.48514169],\n",
       "       [-0.82044629],\n",
       "       [-1.13176273],\n",
       "       [-0.04828587],\n",
       "       [-0.21879432],\n",
       "       [-0.45146224],\n",
       "       [-0.18629577],\n",
       "       [-0.2124522 ],\n",
       "       [-0.63675003],\n",
       "       [ 2.20307633],\n",
       "       [-0.02706385],\n",
       "       [ 2.02736052],\n",
       "       [ 0.24141607],\n",
       "       [ 1.37175908],\n",
       "       [ 1.72165447],\n",
       "       [ 1.3639747 ],\n",
       "       [-0.5110982 ],\n",
       "       [-0.29479762],\n",
       "       [-0.66453689],\n",
       "       [-0.00274237],\n",
       "       [-0.7244142 ],\n",
       "       [-0.67586659],\n",
       "       [-0.59426816],\n",
       "       [-0.46019064],\n",
       "       [-0.16039488],\n",
       "       [-0.39961467],\n",
       "       [-0.31586758],\n",
       "       [-0.54808903],\n",
       "       [-0.54236909],\n",
       "       [ 1.77188556],\n",
       "       [-0.56014478],\n",
       "       [-0.76076393],\n",
       "       [ 1.45325342],\n",
       "       [-0.59481306],\n",
       "       [-0.14488503],\n",
       "       [-0.84136115],\n",
       "       [ 0.14296926],\n",
       "       [ 1.38599996],\n",
       "       [ 0.09391494],\n",
       "       [-0.12048588],\n",
       "       [-0.19230528],\n",
       "       [-0.35518821],\n",
       "       [-0.25310941],\n",
       "       [-0.86052226],\n",
       "       [-0.58903327],\n",
       "       [-0.38914585],\n",
       "       [-0.87706907],\n",
       "       [ 1.48269445],\n",
       "       [-0.86205041],\n",
       "       [ 1.81232431],\n",
       "       [-0.89136967],\n",
       "       [-0.15300514],\n",
       "       [-0.34015077],\n",
       "       [ 1.62740646],\n",
       "       [-0.78681374],\n",
       "       [ 1.76515182],\n",
       "       [-0.25652957],\n",
       "       [ 1.35813009],\n",
       "       [-0.07261245],\n",
       "       [-0.13937096],\n",
       "       [ 0.19096313],\n",
       "       [-0.34115708],\n",
       "       [-0.31485076],\n",
       "       [-0.52913912],\n",
       "       [ 1.9710678 ],\n",
       "       [ 1.84589506],\n",
       "       [-0.32930997],\n",
       "       [ 1.65243773],\n",
       "       [-0.34877458],\n",
       "       [-0.56968498],\n",
       "       [ 1.53713015],\n",
       "       [-0.33618196],\n",
       "       [-0.04935081],\n",
       "       [-0.2374647 ],\n",
       "       [-0.03182776],\n",
       "       [ 1.60674311],\n",
       "       [-0.61639858],\n",
       "       [-0.86255713],\n",
       "       [ 1.48284301],\n",
       "       [ 1.08650541],\n",
       "       [-0.20605907],\n",
       "       [-0.22265566],\n",
       "       [ 0.16961351],\n",
       "       [-0.36761097],\n",
       "       [ 1.19919697],\n",
       "       [-0.29912582],\n",
       "       [-0.00312356],\n",
       "       [ 1.9775335 ],\n",
       "       [ 0.17907981],\n",
       "       [ 1.27820741],\n",
       "       [ 0.00997216],\n",
       "       [-0.11524129],\n",
       "       [ 2.12616901],\n",
       "       [ 0.35676338],\n",
       "       [-0.743269  ],\n",
       "       [-0.02859371],\n",
       "       [-0.27541466],\n",
       "       [ 1.43899413],\n",
       "       [-1.00843719],\n",
       "       [-0.98845808],\n",
       "       [ 1.57994062],\n",
       "       [-0.54158915],\n",
       "       [-0.68561813],\n",
       "       [-0.6837398 ],\n",
       "       [-0.064526  ],\n",
       "       [-0.30539004],\n",
       "       [-0.2041611 ],\n",
       "       [-0.71792597],\n",
       "       [-0.18406726],\n",
       "       [ 1.48044256],\n",
       "       [-0.59925758],\n",
       "       [-0.25079961],\n",
       "       [-0.62845433],\n",
       "       [ 1.54172832],\n",
       "       [ 0.10509162],\n",
       "       [-0.08684664],\n",
       "       [-0.33572927],\n",
       "       [ 0.0118894 ],\n",
       "       [ 1.27749156],\n",
       "       [ 0.29814184],\n",
       "       [-0.4756771 ],\n",
       "       [-0.66147354],\n",
       "       [ 0.12623464],\n",
       "       [-0.43009677],\n",
       "       [-0.18608616],\n",
       "       [ 1.09208732],\n",
       "       [-0.440086  ],\n",
       "       [-0.89202543],\n",
       "       [-0.10791722],\n",
       "       [-0.03273458],\n",
       "       [-0.64702973],\n",
       "       [-0.42030804],\n",
       "       [-0.21750861],\n",
       "       [-0.03408887],\n",
       "       [-0.06632692],\n",
       "       [ 0.14254407],\n",
       "       [-0.25062935],\n",
       "       [-0.77595294],\n",
       "       [-0.35316047],\n",
       "       [-0.47617764],\n",
       "       [ 0.21917443],\n",
       "       [-0.01397927],\n",
       "       [-0.70699366],\n",
       "       [-0.71548734],\n",
       "       [-0.1603807 ],\n",
       "       [ 0.22622344],\n",
       "       [ 1.40631638],\n",
       "       [-0.90281424],\n",
       "       [ 0.0464119 ],\n",
       "       [-0.17686061],\n",
       "       [ 1.40160274],\n",
       "       [-1.14745385],\n",
       "       [-0.53887269],\n",
       "       [ 0.1595604 ],\n",
       "       [-0.35871064],\n",
       "       [-0.71032382],\n",
       "       [-0.80939975],\n",
       "       [-0.03647901],\n",
       "       [-0.58804904],\n",
       "       [-0.08599813],\n",
       "       [ 1.94292169],\n",
       "       [-0.3104158 ],\n",
       "       [ 0.41813674],\n",
       "       [-0.13001492],\n",
       "       [-0.40528649],\n",
       "       [-0.43337735],\n",
       "       [-0.33178384],\n",
       "       [-0.11429727],\n",
       "       [ 0.00243655],\n",
       "       [ 1.14091446],\n",
       "       [-0.19183286],\n",
       "       [-0.64607492],\n",
       "       [-0.74170036],\n",
       "       [ 0.16314463],\n",
       "       [ 1.26257081],\n",
       "       [-0.66900988],\n",
       "       [-0.22194478],\n",
       "       [-0.81673445],\n",
       "       [ 1.89408631],\n",
       "       [ 2.01132842],\n",
       "       [-0.35965127],\n",
       "       [ 1.04799442],\n",
       "       [ 0.11332443],\n",
       "       [ 0.02915422],\n",
       "       [-0.65891146],\n",
       "       [ 0.09794617],\n",
       "       [-0.50225714],\n",
       "       [-0.3350082 ],\n",
       "       [ 1.65329183],\n",
       "       [ 0.97990419],\n",
       "       [-0.37944594],\n",
       "       [ 1.29988514],\n",
       "       [ 0.02423255],\n",
       "       [ 1.5045972 ],\n",
       "       [-0.66041236],\n",
       "       [-0.17491891],\n",
       "       [-0.77338431],\n",
       "       [ 0.06708735],\n",
       "       [-0.07632076],\n",
       "       [-0.6424776 ],\n",
       "       [ 0.14024784],\n",
       "       [-0.50661162],\n",
       "       [ 1.14851672],\n",
       "       [-0.11232613],\n",
       "       [-0.18268595],\n",
       "       [ 1.60415887],\n",
       "       [-0.84344825],\n",
       "       [ 1.07532254],\n",
       "       [-0.73166884],\n",
       "       [ 0.08083992],\n",
       "       [-1.12485864],\n",
       "       [ 2.09581027],\n",
       "       [-0.41036411],\n",
       "       [-0.10211066]])"
      ]
     },
     "execution_count": 37,
     "metadata": {},
     "output_type": "execute_result"
    }
   ],
   "source": [
    "y_pre"
   ]
  },
  {
   "cell_type": "markdown",
   "id": "daab1cf7-8c7b-409d-bb9b-68f2f6a2cd20",
   "metadata": {},
   "source": [
    "r2 score to find a statistical measure in a regression model"
   ]
  },
  {
   "cell_type": "code",
   "execution_count": 38,
   "id": "7b6f0350-ce10-4730-a6a6-8a27d1a57410",
   "metadata": {},
   "outputs": [],
   "source": [
    "R2_score = model_lr.score(x_train,y_train)"
   ]
  },
  {
   "cell_type": "code",
   "execution_count": 39,
   "id": "950cef55-e805-43e2-a67e-81431c74fc57",
   "metadata": {},
   "outputs": [
    {
     "data": {
      "text/plain": [
       "73.94830872933609"
      ]
     },
     "execution_count": 39,
     "metadata": {},
     "output_type": "execute_result"
    }
   ],
   "source": [
    "R2_score*100"
   ]
  },
  {
   "cell_type": "markdown",
   "id": "ef241be8-8fa5-4213-94d3-9f9048a9e067",
   "metadata": {},
   "source": [
    "To find the accuracy of the model using a library mean_squared_error"
   ]
  },
  {
   "cell_type": "code",
   "execution_count": 40,
   "id": "073fe2c7-40e7-45c2-9988-52d6b1f82858",
   "metadata": {},
   "outputs": [],
   "source": [
    "from sklearn.metrics import mean_squared_error"
   ]
  },
  {
   "cell_type": "code",
   "execution_count": 41,
   "id": "d2388216-03f2-4ea9-b76c-48393e7a8706",
   "metadata": {},
   "outputs": [],
   "source": [
    "accuracy = 1-mean_squared_error(y_test,y_pre)"
   ]
  },
  {
   "cell_type": "code",
   "execution_count": 42,
   "id": "bb861e63-0181-4bda-a90b-05725ec117b0",
   "metadata": {},
   "outputs": [
    {
     "data": {
      "text/plain": [
       "77.26830289915996"
      ]
     },
     "execution_count": 42,
     "metadata": {},
     "output_type": "execute_result"
    }
   ],
   "source": [
    "accuracy*100"
   ]
  },
  {
   "cell_type": "code",
   "execution_count": 46,
   "id": "8a64a17a-63cb-47c1-8aec-0df94541ebf6",
   "metadata": {},
   "outputs": [
    {
     "data": {
      "image/png": "[encoded data removed]",
      "text/plain": [
       "<Figure size 640x480 with 1 Axes>"
      ]
     },
     "metadata": {},
     "output_type": "display_data"
    }
   ],
   "source": [
    "plt.scatter(y_test,y_pre)\n",
    "plt.xlabel('Actual Charge')\n",
    "plt.ylabel('Predicted Charge')\n",
    "plt.show()"
   ]
  },
  {
   "cell_type": "markdown",
   "id": "b5e2e8f6-1ad0-4c24-8f60-2369900b29f9",
   "metadata": {},
   "source": [
    "To give a input value for x features"
   ]
  },
  {
   "cell_type": "code",
   "execution_count": 42,
   "id": "de3c51b8-3ea8-4ca4-afc9-13a0478da76e",
   "metadata": {},
   "outputs": [
    {
     "name": "stdin",
     "output_type": "stream",
     "text": [
      "Enter your age  60\n",
      "Enter your sex  2\n",
      "Enter your bmi  26.3\n",
      "Enter your children  3\n",
      "Enter your smoker  1\n"
     ]
    }
   ],
   "source": [
    "new_age =(input('Enter your age '))\n",
    "new_sex =(input('Enter your sex '))\n",
    "new_bmi =(input('Enter your bmi '))\n",
    "new_children =(input('Enter your children '))\n",
    "new_smoker =(input('Enter your smoker '))"
   ]
  },
  {
   "cell_type": "markdown",
   "id": "a662cd82-6356-4672-9ada-cac1c6061f9e",
   "metadata": {},
   "source": [
    "to create a dataframe for x variable"
   ]
  },
  {
   "cell_type": "code",
   "execution_count": 43,
   "id": "93e5f509-05af-4496-b764-96b86b0b6425",
   "metadata": {},
   "outputs": [
    {
     "data": {
      "text/html": [
       "<div>\n",
       "<style scoped>\n",
       "    .dataframe tbody tr th:only-of-type {\n",
       "        vertical-align: middle;\n",
       "    }\n",
       "\n",
       "    .dataframe tbody tr th {\n",
       "        vertical-align: top;\n",
       "    }\n",
       "\n",
       "    .dataframe thead th {\n",
       "        text-align: right;\n",
       "    }\n",
       "</style>\n",
       "<table border=\"1\" class=\"dataframe\">\n",
       "  <thead>\n",
       "    <tr style=\"text-align: right;\">\n",
       "      <th></th>\n",
       "      <th>0</th>\n",
       "      <th>1</th>\n",
       "      <th>2</th>\n",
       "      <th>3</th>\n",
       "      <th>4</th>\n",
       "    </tr>\n",
       "  </thead>\n",
       "  <tbody>\n",
       "    <tr>\n",
       "      <th>0</th>\n",
       "      <td>60</td>\n",
       "      <td>2</td>\n",
       "      <td>26.3</td>\n",
       "      <td>3</td>\n",
       "      <td>1</td>\n",
       "    </tr>\n",
       "  </tbody>\n",
       "</table>\n",
       "</div>"
      ],
      "text/plain": [
       "    0  1     2  3  4\n",
       "0  60  2  26.3  3  1"
      ]
     },
     "execution_count": 43,
     "metadata": {},
     "output_type": "execute_result"
    }
   ],
   "source": [
    "x_new =pd.DataFrame([[new_age,new_sex,new_bmi,new_children,new_smoker]])\n",
    "x_new"
   ]
  },
  {
   "cell_type": "markdown",
   "id": "d54d6136-6dd8-45a3-9a04-8edcd02a75fc",
   "metadata": {},
   "source": [
    "predit a new_charge values"
   ]
  },
  {
   "cell_type": "code",
   "execution_count": 47,
   "id": "44c4319c-5330-412d-a9f2-f1af08ff01a4",
   "metadata": {},
   "outputs": [
    {
     "name": "stderr",
     "output_type": "stream",
     "text": [
      "C:\\Users\\Megala\\AppData\\Local\\Programs\\Python\\Python311\\Lib\\site-packages\\sklearn\\base.py:493: UserWarning: X does not have valid feature names, but LinearRegression was fitted with feature names\n",
      "  warnings.warn(\n"
     ]
    }
   ],
   "source": [
    "new_charge = model_lr.predict(x_new)"
   ]
  },
  {
   "cell_type": "markdown",
   "id": "20462b7d-c321-4d42-a5e1-e13309501dcc",
   "metadata": {},
   "source": [
    "inverse the new_charge value for real time using inverse_transform"
   ]
  },
  {
   "cell_type": "code",
   "execution_count": 48,
   "id": "767ddde4-ba99-4cab-ac40-54e45b5b41a1",
   "metadata": {},
   "outputs": [],
   "source": [
    "new_charges= charges_scaler.inverse_transform(new_charge)"
   ]
  },
  {
   "cell_type": "code",
   "execution_count": 49,
   "id": "f0df86d8-51d0-48bc-90e7-cb63179c7a71",
   "metadata": {},
   "outputs": [
    {
     "data": {
      "text/plain": [
       "array([[36544.95466808]])"
      ]
     },
     "execution_count": 49,
     "metadata": {},
     "output_type": "execute_result"
    }
   ],
   "source": [
    "new_charges"
   ]
  },
  {
   "cell_type": "code",
   "execution_count": null,
   "id": "c4058b88-94ea-4263-9af9-ec8e4a88f47f",
   "metadata": {},
   "outputs": [],
   "source": []
  }
 ],
 "metadata": {
  "kernelspec": {
   "display_name": "Python 3 (ipykernel)",
   "language": "python",
   "name": "python3"
  },
  "language_info": {
   "codemirror_mode": {
    "name": "ipython",
    "version": 3
   },
   "file_extension": ".py",
   "mimetype": "text/x-python",
   "name": "python",
   "nbconvert_exporter": "python",
   "pygments_lexer": "ipython3",
   "version": "3.11.9"
  }
 },
 "nbformat": 4,
 "nbformat_minor": 5
}
